{
  "cells": [
    {
      "cell_type": "markdown",
      "metadata": {
        "id": "view-in-github",
        "colab_type": "text"
      },
      "source": [
        "<a href=\"https://colab.research.google.com/github/rotom303/Final_Project/blob/main/PreProcessingFinal.ipynb\" target=\"_parent\"><img src=\"https://colab.research.google.com/assets/colab-badge.svg\" alt=\"Open In Colab\"/></a>"
      ]
    },
    {
      "cell_type": "markdown",
      "metadata": {
        "id": "NkOTH7Mtn2am"
      },
      "source": [
        "# Finger Flexion Final Project\n",
        "Developed by\n",
        "\n",
        "Alexander Byrd, Aakash Jajoo, Chaoyi Cheng\n",
        "\n"
      ]
    },
    {
      "cell_type": "markdown",
      "metadata": {
        "id": "8v4jHpYSoEnu"
      },
      "source": [
        "# Project Setup"
      ]
    },
    {
      "cell_type": "code",
      "execution_count": 58,
      "metadata": {
        "colab": {
          "base_uri": "https://localhost:8080/"
        },
        "id": "I2ragnF2mobl",
        "outputId": "d867aa91-1f5e-4d98-f2f7-a2de3dfcb1d0"
      },
      "outputs": [
        {
          "output_type": "stream",
          "name": "stdout",
          "text": [
            "Looking in indexes: https://pypi.org/simple, https://us-python.pkg.dev/colab-wheels/public/simple/\n",
            "Requirement already satisfied: deepdiff in /usr/local/lib/python3.9/dist-packages (6.3.0)\n",
            "Requirement already satisfied: ordered-set<4.2.0,>=4.0.2 in /usr/local/lib/python3.9/dist-packages (from deepdiff) (4.1.0)\n"
          ]
        }
      ],
      "source": [
        "#Set up the notebook environment\n",
        "import matplotlib.pyplot as plt\n",
        "import numpy as np\n",
        "import pandas as pd\n",
        "import pickle\n",
        "from scipy.stats import pearsonr\n",
        "from scipy import signal as sig\n",
        "from scipy.io import loadmat, savemat\n",
        "from scipy.fft import fft, fftfreq\n",
        "import sklearn\n",
        "from numpy.linalg import inv\n",
        "\n",
        "import random\n",
        "from google.colab import drive\n",
        "\n",
        "from google.colab import auth\n",
        "import gspread\n",
        "from google.auth import default\n",
        "\n",
        "!pip install deepdiff\n",
        "from deepdiff import DeepDiff\n"
      ]
    },
    {
      "cell_type": "markdown",
      "metadata": {
        "id": "btuAY3-7oP1I"
      },
      "source": [
        "**File Directory:**\n"
      ]
    },
    {
      "cell_type": "code",
      "execution_count": 59,
      "metadata": {
        "colab": {
          "base_uri": "https://localhost:8080/"
        },
        "id": "9Sjs6zAZocE_",
        "outputId": "93d7c429-4223-4dbe-e75a-70e6227f5039"
      },
      "outputs": [
        {
          "output_type": "stream",
          "name": "stdout",
          "text": [
            "Drive already mounted at /content/drive; to attempt to forcibly remount, call drive.mount(\"/content/drive\", force_remount=True).\n",
            "/content/drive/MyDrive/Brain_Computer_Interfaces/Final_Project\n"
          ]
        }
      ],
      "source": [
        "drive.mount('/content/drive')\n",
        "%cd /content/drive/MyDrive/Brain_Computer_Interfaces/Final_Project/\n",
        "\n",
        "# auth.authenticate_user()\n",
        "# creds, _ = default()\n",
        "# gc = gspread.authorize(creds)\n",
        "\n",
        "proj_data = loadmat('raw_training_data.mat')\n",
        "leaderboard_data = loadmat('leaderboard_data.mat')\n",
        "fs = 1000 # Sampling frequency of the signals\n",
        "numPatients = 3 # This is just to increase reusability."
      ]
    },
    {
      "cell_type": "markdown",
      "metadata": {
        "id": "eRSs2D-zoqGs"
      },
      "source": [
        "# Filter Design\n",
        "This is where the filter applied to the raw ECoG data is defined."
      ]
    },
    {
      "cell_type": "code",
      "execution_count": 226,
      "metadata": {
        "id": "PV8onTEvpNyu"
      },
      "outputs": [],
      "source": [
        "\"\"\"\n",
        "Filter parameters:\n",
        "\n",
        "fc_passband: a list in form [f1,f2]. f1 and f2 are the corner frequencies of\n",
        "  a bandpass filter (-3dB attenuation at f1 & f2). Frequencies in between f1 and \n",
        "  f2 are kept (called the pass band) while others outside that range are \n",
        "  attenuated (called the rejection band). Units = Hz \n",
        "\n",
        "order: The order of the bandpass filter used. Increasing the order of a filter\n",
        "  makes the transition between the pass band and the rejection band sharper. In\n",
        "  the case of a Butterworth filter, increasing order means the pass band stays\n",
        "  flat closer to f1 and f2. Increasing the order too much will reduce filter \n",
        "  stability and can result in ripples in the pass band or other unpredictable\n",
        "  behaviour. 4th to 6th Order filters tend to be the best compromise.  \n",
        "\n",
        "applyNotch: a Boolean for whether or not to apply a notch filter. A Notch filter\n",
        "  Removes noise at precise frequencies. It is useful for removing artifacts\n",
        "  from power supplies, which are usually at harmonics of 60Hz.   \n",
        "\n",
        "f_notch: Selects the frequencies which are removed with a Notch Filter. It must\n",
        "  be a list, even if it just has 1 element. Units = Hz.\n",
        "\n",
        "Q: is the quality factor of the notch filter. A low Q will also attenuate\n",
        "  frequencies near f_notch. A high Q will make the notch filter more precise, \n",
        "  but it will not attenuate f_notch as much. \n",
        "\"\"\"\n",
        "fc_passband = [75,200]\n",
        "order = 4\n",
        "applyNotch = True \n",
        "f_notch = [60,120]; \n",
        "Q = 50\n",
        "\n",
        "def apply_filter(raw_signal):\n",
        "  \"\"\"\n",
        "  Input: \n",
        "    raw_signal (samples x channels): the raw signal\n",
        "  Output: \n",
        "    clean_data (samples x channels): the filtered signal\n",
        "  \"\"\"\n",
        "  number_of_channels = np.shape(raw_signal)[1] #number of channels\n",
        "  filteredData = np.zeros(np.shape(raw_signal)); #filtered data output\n",
        "\n",
        "  # Bandpass Butterworth filter \n",
        "  sos = sig.butter(order, fc_passband, 'bandpass', analog=False, fs=fs, output='sos'); # returns filter coefficients\n",
        "  b_notch = []; a_notch = []\n",
        "  for f_remove in f_notch:\n",
        "    b, a = sig.iirnotch(f_remove,Q,fs=fs)\n",
        "    b_notch.append(b); a_notch.append(a)\n",
        "  #for each channel\n",
        "  for chanInd in np.arange(number_of_channels):\n",
        "    # subtract mean from each datapoint\n",
        "    currFilt = raw_signal[:, chanInd] - np.mean(raw_signal[:, chanInd]);\n",
        "    if(applyNotch): \n",
        "      for i in range(len(b_notch)):\n",
        "        currFilt = sig.filtfilt(b_notch[i],a_notch[i],currFilt)\n",
        "    currFilt = sig.sosfiltfilt(sos, currFilt) # forward-backward digital filter using cascaded second-order sections                                        \n",
        "    filteredData[:, chanInd] = currFilt\n",
        "  return filteredData"
      ]
    },
    {
      "cell_type": "markdown",
      "metadata": {
        "id": "Lsp4l6bZowqG"
      },
      "source": [
        "# Feature Extraction\n",
        "Here are the functions that generate the window that features are extracted from. The Features and their normalization (standardization in this case) are defined. The downsampling of the glove data to match the windows is also defined here. "
      ]
    },
    {
      "cell_type": "markdown",
      "metadata": {
        "id": "t1Q4qzPX3CPH"
      },
      "source": [
        "## Feature Class\n",
        "Every feature is a child of this class. This class streamlines the process of adding features and how we take extract them from the ECoG data. We can easily change whether a feature is normalized (using standardization method) and whether it uses the raw or filtered ECoG data. \n",
        "This class will save the mean and standard deviation of the training data so it can easily standardize both training and testing data.\n",
        "\n",
        "We can define every feature we consider here, but the only features that are extracted and used in the models will be the ones we instantiate as objects. Every object we instantiate is automatically added to the global list *featFns*, which keeps track of the features we are analyzing. "
      ]
    },
    {
      "cell_type": "code",
      "execution_count": 227,
      "metadata": {
        "id": "zaJSPNcPpEGn"
      },
      "outputs": [],
      "source": [
        "global featFns;\n",
        "featFns = [] # A list that stores all the Feature Objects used\n",
        "featDict = dict() # a dict that stores each Feature Object. \n",
        "  # The dict keys are from its get_name method.\n",
        "\n",
        "class Feature():\n",
        "  def __init__(self,isFiltered=True, doNormalize=True):\n",
        "    self.isFiltered = isFiltered # Whether or not the feature is extracted from the raw or filtered data.\n",
        "    self.doNormalize = doNormalize # Whether or not to normalize this feature\n",
        "    self.mean = 0 # mean\n",
        "    self.std = 1 # standard deviation\n",
        "    featFns.append(self)\n",
        "\n",
        "  def __call__(self, signal_data):\n",
        "    return signal_data\n",
        "\n",
        "  def get_name(self,nameAddon=None):\n",
        "    name = type(self).__name__\n",
        "    if nameAddon is not None:\n",
        "      name += nameAddon\n",
        "    name_filter = 'Filtered'\n",
        "    name_norm = 'Normalized'\n",
        "    if not self.isFiltered: name_filter = 'not' + name_filter\n",
        "    if not self.doNormalize: name_norm = 'not' + name_norm\n",
        "    fullname = name + '_' + name_filter + '_' + name_norm\n",
        "    featDict[fullname] = self\n",
        "    return fullname\n",
        "\n",
        "  def standardize_training(self,training_feat):\n",
        "    if(self.doNormalize):\n",
        "      self.mean = np.mean(training_feat)\n",
        "      self.std = np.std(training_feat)\n",
        "    return (training_feat - self.mean)/self.std\n",
        "\n",
        "  def standardize_testing(self,testing_feat):\n",
        "    return (testing_feat-self.mean) / self.std\n",
        "  \n"
      ]
    },
    {
      "cell_type": "markdown",
      "metadata": {
        "id": "kbCjx0dXHqKB"
      },
      "source": [
        "## Feature Definitions\n",
        "This is where the functions for the different features are defined. The functions themselves should be written in the __ call__(self, window) method.\n",
        "\n",
        "Note that the functions are applied to one window in one channel at a time. "
      ]
    },
    {
      "cell_type": "code",
      "execution_count": 228,
      "metadata": {
        "id": "59khQQ-oHq8M"
      },
      "outputs": [],
      "source": [
        "class LineLength(Feature):\n",
        "  def __call__(self,x):\n",
        "    return np.sum(np.absolute(np.ediff1d(x)))\n",
        "\n",
        "class Area(Feature):\n",
        "  def __call__(self,x):\n",
        "    return np.sum(np.absolute(x))\n",
        "\n",
        "class Energy(Feature):\n",
        "  def __call__(self,x):\n",
        "    return np.sum(np.square(x))\n",
        "\n",
        "class ZeroCrossings(Feature):\n",
        "  def __call__(self,x):\n",
        "    return np.size(np.nonzero(np.ediff1d(np.sign(x-np.mean(x)))))\n",
        "\n",
        "class Mean(Feature):\n",
        "  def __call__(self,x):\n",
        "    return np.mean(x)\n",
        "\n",
        "class FreqBand(Feature):\n",
        "  def __init__(self,f_low,f_high,isFiltered=False,doNormalize=True):\n",
        "    Feature.__init__(self,isFiltered,doNormalize)\n",
        "    self.f_low = f_low\n",
        "    self.f_high = f_high\n",
        "  \n",
        "  def __call__(self,signal):\n",
        "    freq_response = fft(signal)\n",
        "    N = len(freq_response)\n",
        "    n = np.arange(N)\n",
        "    T = N/fs #sampling rate=1000\n",
        "    freq = n/T \n",
        "    power_spectrum = np.abs(freq_response)\n",
        "    # Find values in frequency vector corresponding to input band\n",
        "    index_band = np.logical_and(freq >= self.f_low, freq <= self.f_high)\n",
        "    #average frequency domain magnitude\n",
        "    avg_mag = np.mean(power_spectrum[index_band])\n",
        "    return avg_mag\n",
        "\n",
        "  def get_name(self):\n",
        "    nameAddon = str(self.f_low) + 'to' + str(self.f_high)\n",
        "    return Feature.get_name(self,nameAddon)"
      ]
    },
    {
      "cell_type": "markdown",
      "metadata": {
        "id": "nS6g6VTP4Ry2"
      },
      "source": [
        "## Getting Windowed Feats"
      ]
    },
    {
      "cell_type": "code",
      "execution_count": 229,
      "metadata": {
        "id": "eg6MkCDg5Csq"
      },
      "outputs": [],
      "source": [
        "def NumWins(x,winLen,winDisp,fs=1000):\n",
        "  \"\"\"\n",
        "    Calculates the number of possible full windows that can fit in x\n",
        "    Inputs:\n",
        "      x is the signal in the time domain. \n",
        "      fs is the sampling frequency of x. Hz.\n",
        "      winLen is the length of windows. sec\n",
        "      winDisp is the displacement between the start of each window. sec\n",
        "  \"\"\"\n",
        "  x_duration = len(x)/fs # seconds.\n",
        "  windows_fit = (x_duration - winLen + winDisp) / (winDisp)\n",
        "  # default behaviour of int() is to floor float, so using round()\n",
        "  return round(windows_fit)\n",
        "\n",
        "def get_features(raw_window,filtered_window):\n",
        "  \"\"\"\n",
        "    Input: \n",
        "      raw_window (window_samples x channels): the window of the unfiltered ecog signal \n",
        "      filtered_window (window_samples x channels): the window of the filtered ecog signal \n",
        "      \n",
        "\n",
        "    Global Inputs: must be defined outside of the function\n",
        "      featFns: a list containing the methods to apply as feats. \n",
        "    \n",
        "    Output:s\n",
        "      features (channels x num_features): the features calculated on each channel for the window\n",
        "  \"\"\"\n",
        "  [window_samples,num_channels]=np.shape(raw_window)\n",
        "  features = np.empty(num_channels*len(featFns))\n",
        "  i = 0\n",
        "  for feat in featFns:\n",
        "    if feat.isFiltered: window = filtered_window\n",
        "    else: window = raw_window\n",
        "    for chn in range(num_channels):\n",
        "      current_window = window[:,chn]\n",
        "      features[num_channels*i+chn] = feat(current_window)\n",
        "    i+=1\n",
        "  return features\n",
        "\n",
        "def get_windowed_feats(ecog_data, window_length, window_overlap):\n",
        "  \"\"\"\n",
        "    Inputs:\n",
        "      raw_eeg (samples x channels): the raw signal\n",
        "      window_length: the window's length\n",
        "      window_overlap: the window's overlap\n",
        "    Output: \n",
        "      all_feats (num_windows x (channels x features)): the features for each channel for each time window\n",
        "        note that this is a 2D array. \n",
        "  \"\"\"\n",
        "  [num_samples,num_channels]=np.shape(ecog_data)\n",
        "  num_windows = NumWins(ecog_data, window_length,window_overlap, fs) \n",
        "  filtered_ecog = apply_filter(ecog_data)\n",
        "  #convert everything to units of samples\n",
        "  wLen=round(window_length*fs) #window length in samples\n",
        "  wDisp=round(window_overlap*fs) #window displacement in samples\n",
        "  data_feats = np.zeros((num_windows,num_channels*len(featFns))); # stores the features of the window\n",
        "   \n",
        "  rightmost = num_samples\n",
        "  for i in range(num_windows):\n",
        "    raw_window = ecog_data[rightmost-wLen:rightmost,:]\n",
        "    filtered_window = filtered_ecog[rightmost-wLen:rightmost,:]\n",
        "    data_feats[-1-i,:] = (get_features(raw_window,filtered_window).flatten())\n",
        "    rightmost = rightmost - wDisp\n",
        "  return data_feats\n"
      ]
    },
    {
      "cell_type": "markdown",
      "metadata": {
        "id": "WP_6_JBw4Xd4"
      },
      "source": [
        "## Feature Normalization\n",
        "We are using standardization to normalize every feature.\n",
        ":"
      ]
    },
    {
      "cell_type": "code",
      "execution_count": 230,
      "metadata": {
        "id": "S-ntPeP04bOd"
      },
      "outputs": [],
      "source": [
        "def standardize_training(feature_matrix):\n",
        "  [windows_trn, feats_trn] = np.shape(feature_matrix)\n",
        "  numChns = int(feats_trn/len(featFns))\n",
        "  normFeats = np.empty((windows_trn,feats_trn))\n",
        "  for i in range(len(featFns)):\n",
        "    for j in range(numChns):\n",
        "      column = i*numChns + j\n",
        "      normFeats[:,column] = featFns[i].standardize_training(feature_matrix[:,column])\n",
        "  return normFeats\n",
        "\n",
        "def standardize_testing(feature_matrix):\n",
        "  [windows_trn,feats_trn] = np.shape(feature_matrix)\n",
        "  numChns = int(feats_trn/len(featFns))\n",
        "  normFeats = np.empty((windows_trn,feats_trn))\n",
        "  for i in range(len(featFns)):\n",
        "    for j in range(numChns):\n",
        "      column = i*numChns + j\n",
        "      normFeats[:,column] = featFns[i].standardize_testing(feature_matrix[:,column])\n",
        "  return normFeats\n",
        "\n",
        "def standardize_both(train_feats, test_feats):\n",
        "  normed_trn = standardize_training(train_feats)\n",
        "  normed_tst = standardize_testing(test_feats)\n",
        "  return normed_trn, normed_tst"
      ]
    },
    {
      "cell_type": "markdown",
      "metadata": {
        "id": "m_qSn_Au4uE2"
      },
      "source": [
        "## Response Matrix\n",
        "We will be using a response matrix as the input to each of our learning algorithms. This is because it allows us to associate one window with the *N_wind* windows before it instead of treating each window as an independent case.   "
      ]
    },
    {
      "cell_type": "code",
      "execution_count": 231,
      "metadata": {
        "id": "Y8d0IL7L43EH"
      },
      "outputs": [],
      "source": [
        "def create_R_matrix(features, N_wind):\n",
        "  \"\"\" \n",
        "  Input:\n",
        "    features (samples (number of windows in the signal) x channels x features): \n",
        "      the features you calculated using get_windowed_feats\n",
        "    N_wind: number of windows to use in the R matrix\n",
        "\n",
        "  Output:\n",
        "    R (samples x (N_wind*channels*features))\n",
        "  \"\"\"\n",
        "  features_appended = np.copy(features)\n",
        "  for i in list(range(N_wind-2, -1, -1)):\n",
        "      a = features[i]\n",
        "      features_appended = np.vstack([a, features_appended])\n",
        "  samples = len(features)   # number of rows = number of windows\n",
        "\n",
        "  R = np.zeros((samples, 1+(N_wind*len(features[0,:]))))  # len(features[0,:]) = (num of features)*(num of channels)\n",
        "  lst = np.array(list(range(1, 1+N_wind)))\n",
        "  R[:, 0] = 1\n",
        "  \n",
        "  \n",
        "  for i in range(len(features[0,:])):   # goes thru each column of the features matrix\n",
        "    for j in range(len(lst)):\n",
        "        x = lst[j]\n",
        "        R[:, x] = features_appended[j : (len(features_appended)-(N_wind-1-j)), i]\n",
        "    lst = lst + N_wind\n",
        "  return R\n"
      ]
    },
    {
      "cell_type": "markdown",
      "metadata": {
        "id": "_qOYt8uy1nRn"
      },
      "source": [
        "## Downsampling The Glove Data\n",
        "We find the features for each window in the ECoG data, and this is how we decide the value for the glove data in the same windows. The downsample methods defined below are analagous to feats, but applied to the windows in glove data instead of ECoG. \n",
        "\n",
        "Below are several functions used to downsample the data. Simple downsampling would just be taking the glove data at the startpoint or endpoint of the window. However, changing our downsampling method may increase our correlation coefficient. Several methods are defined below and the one that we use is defined later in the Define Paramters section."
      ]
    },
    {
      "cell_type": "code",
      "execution_count": 232,
      "metadata": {
        "id": "XhtUhQUU2LQr"
      },
      "outputs": [],
      "source": [
        "def startpoint_downsample(finger_window):\n",
        "  return finger_window[0]\n",
        "\n",
        "def endpoint_downsample(finger_window):\n",
        "  return finger_window[-1]\n",
        "\n",
        "def max_downsample(finger_window):\n",
        "  return np.max(finger_window)\n",
        "\n",
        "def area_downsample(finger_window):\n",
        "  return np.sum(np.absolute(finger_window))"
      ]
    },
    {
      "cell_type": "code",
      "execution_count": 233,
      "metadata": {
        "id": "4oOf9H7D7VrY"
      },
      "outputs": [],
      "source": [
        "def downsample_window(glove_window, downsample_method):\n",
        "  \"\"\"\n",
        "    This function applies the chosen downsampling method to a window of the \n",
        "    glove. Returns a downsampled value for each channel (each finger). \n",
        "  \"\"\"\n",
        "  [num_samples,num_channels] = np.shape(glove_window)\n",
        "  downsampled_glove = np.empty(num_channels)\n",
        "  for chn in range(num_channels):\n",
        "    current_window = glove_window[:,chn]\n",
        "    downsampled_glove[chn] = downsample_method(current_window)\n",
        "  return downsampled_glove\n",
        "\n",
        "def downsample(glove_data, winLen, winDisp, downsample_method):\n",
        "  \"\"\"\n",
        "    Creates an array of the downsampled glove data for each channel (finger).\n",
        "    Inputs:\n",
        "      glove_data = the glove data for finger flexion. Should have 5 channels.\n",
        "\n",
        "    Returns: an array of size (windows x glove channels) that represents the \n",
        "      downsampled glove data for each window. \n",
        "  \"\"\"\n",
        "  [num_samples,num_channels] = np.shape(glove_data)\n",
        "  num_windows = NumWins(glove_data, winLen,winDisp, fs)\n",
        "  wLen = round(winLen*fs) #window length in samples\n",
        "  wDisp = round(winDisp*fs) #window displacement in samples\n",
        "  windowed_fingers = np.zeros((num_windows,num_channels)); # stores the features of the window\n",
        "  rightmost = num_samples\n",
        "  for i in range(num_windows):\n",
        "    window = glove_data[rightmost-wLen:rightmost,:]\n",
        "    windowed_fingers[-1-i,:] = (downsample_window(window, downsample_method).flatten())\n",
        "    rightmost = rightmost - wDisp\n",
        "  return windowed_fingers\n"
      ]
    },
    {
      "cell_type": "markdown",
      "metadata": {
        "id": "ZCGpfarf6r8H"
      },
      "source": [
        "# Define Parameters\n",
        "*This "
      ]
    },
    {
      "cell_type": "markdown",
      "metadata": {
        "id": "AYi9mZrltChU"
      },
      "source": [
        "## User-Defined Parameters\n",
        "Below are the user defined parameters. All the parameters are defined here, except for the ones that have already been defined for the filter in the Filter Design section."
      ]
    },
    {
      "cell_type": "code",
      "execution_count": 234,
      "metadata": {
        "id": "3xT8HfGK6vsD"
      },
      "outputs": [],
      "source": [
        "# Name of the file to write or read the data from for parameters and R matrices\n",
        "filename = 'previousRun.pkl'\n",
        "use_file_params = False \n",
        "# If use_file_params is True, then it will overwrite the parameters defined here\n",
        "\n",
        "# Window Parameters\n",
        "window_length = 100e-3  # seconds\n",
        "window_displacement = 50e-3 #seconds\n",
        "N_winds = 3 # Number of previous windows considered in Response matrix. \n",
        "\n",
        "# These Booleans are to make code clearer\n",
        "uses_raw = False; uses_filtered = True \n",
        "not_normalized = False; normalized = True; \n",
        "# Different Features analyzed\n",
        "featFns=[] # Empty list of featFns before defining feats for this runtime.\n",
        "# line_length = LineLength(uses_filtered,normalized)\n",
        "# area = Area(uses_filtered,normalized)\n",
        "# zero_crossings = ZeroCrossings(uses_filtered,normalized)\n",
        "energy = Energy(uses_filtered,normalized)\n",
        "# freq_band_5_to_15 = FreqBand(5,15,uses_raw,normalized)\n",
        "# freq_band_20_to_25 = FreqBand(20,25,uses_raw,normalized)\n",
        "# freq_band_75_to_115 = FreqBand(75,115,uses_raw,normalized)\n",
        "# freq_band_125_to_160 = FreqBand(125,160,uses_raw,normalized)\n",
        "# freq_band_160_to_175 = FreqBand(160,175,uses_raw,normalized)\n",
        "freq_band_8_to_12 = FreqBand(8,12,uses_filtered,normalized)\n",
        "freq_band_75_to_95 = FreqBand(75,95,uses_filtered,normalized)\n",
        "freq_band_96_to_115 = FreqBand(96,115,uses_filtered,normalized)\n",
        "mean = Mean(uses_filtered,normalized)\n",
        "\n",
        "# Training / Testing Split\n",
        "training_fraction = 0.7 # What fraction of the samples\n",
        "\n",
        "# Downsampling method for finger flexion in glove data.\n",
        "downsample_method = startpoint_downsample\n"
      ]
    },
    {
      "cell_type": "markdown",
      "metadata": {
        "id": "79zFtNHr0Gtq"
      },
      "source": [
        "## Parameter Dictionary\n",
        "Here we put all the parameters into a dictionary. This makes it easy to export them and compare them between trials. This dictionary will be compared to parameter dictionaries from previous trials, and if they use the same parameters, we will just load the previous feature and R matrices instead of calculating them all again. The saving and loading code is towards the end of the Preparing Data section."
      ]
    },
    {
      "cell_type": "code",
      "execution_count": 235,
      "metadata": {
        "id": "JGge8-zh0jhQ"
      },
      "outputs": [],
      "source": [
        "global param_dict;\n",
        "param_dict = dict()\n",
        "# Filter Params\n",
        "param_dict['fs'] = fs\n",
        "param_dict['fc_passband'] = fc_passband \n",
        "param_dict['order'] = order\n",
        "param_dict['applyNotch'] = applyNotch\n",
        "param_dict['f_notch'] = f_notch\n",
        "param_dict['Q'] = Q\n",
        "# Window Parameters\n",
        "param_dict['winLen'] = window_length\n",
        "param_dict['winDisp'] = window_displacement\n",
        "param_dict['N_winds'] = N_winds\n",
        "# Feature Parameters\n",
        "param_dict['featFns'] = []\n",
        "for feat in featFns:\n",
        "  param_dict['featFns'].append(feat.get_name())\n",
        "# Training / Testing Split Parameter\n",
        "param_dict['training_fraction'] = training_fraction\n",
        "\n",
        "# Downsampling method for finger flexion in glove data.\n",
        "param_dict['downsampling'] = downsample_method.__name__\n"
      ]
    },
    {
      "cell_type": "markdown",
      "metadata": {
        "id": "lEp6hxF9ozMl"
      },
      "source": [
        "# Data Preprocessing\n",
        "Putting the data in a form that can be easily used for different learning algorithms. "
      ]
    },
    {
      "cell_type": "markdown",
      "metadata": {
        "id": "jBIEoe-8z1m8"
      },
      "source": [
        "## Preprocessing Functions\n",
        "These are functions for splitting the data into training and testing for validation purposes. Additionally, functions to save, load, and compare data files are defined here."
      ]
    },
    {
      "cell_type": "code",
      "execution_count": 236,
      "metadata": {
        "id": "FrE3qg7l0w7N"
      },
      "outputs": [],
      "source": [
        "def split_data(data, train_fraction = training_fraction):\n",
        "  \"\"\"\n",
        "    Inputs:\n",
        "    data = a samples x channels array of data for one patient\n",
        "    training_fraction = a number between 0 and 1 that represents the fraction of\n",
        "      data that will be put into the training split. The remaining will be put\n",
        "      into the testing split. \n",
        "    Returns:\n",
        "      training data, testing data\n",
        "  \"\"\"\n",
        "  m = len(data[:,0]) # Number of samples per channel\n",
        "  m_training = round(train_fraction*m)\n",
        "  training_data = data[0:m_training,:]\n",
        "  testing_data = data[m_training:m,:]\n",
        "  return training_data, testing_data\n",
        "\n",
        "def save_feature_parameters(filename):  \n",
        "  with open(filename, 'wb') as f:\n",
        "    # Note that this will overwrite any data already in filename\n",
        "    pickle.dump(param_dict,f)\n",
        "  print(f\"The parameters and R matrices have been saved in {filename}\")\n",
        "\n",
        "def load_feature_parameters(filename):\n",
        "  with open(filename, 'rb') as f:\n",
        "    ref_dict = pickle.load(f)\n",
        "  return ref_dict\n",
        "\n",
        "def compare_dicts(dict1, dict2):\n",
        "  \"\"\"\n",
        "    Input: dict1 and dict2 are borth dictionaries. The expectation is that they\n",
        "      have the same keys. \n",
        "    Returns: the number of differences between the keys in dict1 and the keys in\n",
        "      dict2. It will also print them out.  \n",
        "  \"\"\"\n",
        "  differences = DeepDiff(dict1,dict2)\n",
        "  num_differences = len(differences.to_dict())\n",
        "  if num_differences > 0:\n",
        "    print(f'{filename} uses different parameters from the ones currently set.')\n",
        "    print(differences)\n",
        "  return num_differences"
      ]
    },
    {
      "cell_type": "markdown",
      "metadata": {
        "id": "3ugGr1xSzUbq"
      },
      "source": [
        "## Load Data\n",
        "This is where all the R Matrices are either loaded or created depending on whether the filename provided has them already. If it does not, then the newly created R matrices will be saved into it. "
      ]
    },
    {
      "cell_type": "code",
      "execution_count": 237,
      "metadata": {
        "id": "3ec3JILB1P58"
      },
      "outputs": [],
      "source": [
        "raw_ecog = proj_data['train_ecog'][:,0]\n",
        "raw_glove = proj_data['train_dg'][:,0]\n",
        "raw_leaderboard = leaderboard_data['leaderboard_ecog'][:,0]"
      ]
    },
    {
      "cell_type": "code",
      "execution_count": 238,
      "metadata": {
        "colab": {
          "base_uri": "https://localhost:8080/"
        },
        "id": "TYPDWndiUaZO",
        "outputId": "d5be9ff6-64d3-47ae-bc50-ca7825dcb146"
      },
      "outputs": [
        {
          "output_type": "stream",
          "name": "stdout",
          "text": [
            "previousRun.pkl uses different parameters from the ones currently set.\n",
            "{'values_changed': {\"root['applyNotch']\": {'new_value': True, 'old_value': False}}}\n",
            "The parameters and R matrices have been saved in previousRun.pkl\n"
          ]
        }
      ],
      "source": [
        "newDataNeeded = True \n",
        "# new Data Needed is True by default, but set to False if data matching the\n",
        "# parameters described in param_dict are found in filename. \n",
        "\n",
        "try: # This Try-Except block is in case filename does not exist\n",
        "  ref_dict = load_feature_parameters(filename)\n",
        "  ref_dict_backup = ref_dict.copy() # backup because popping removes from dict.\n",
        "  # This will extract the preprocessed data from the file\n",
        "  # The first time running the code, param_dict will not contain these keys, so\n",
        "  # popping them makes the ref_dict more comparable to param_dict.  \n",
        "  R_total = ref_dict.pop('R_total',None)\n",
        "  R_train = ref_dict.pop('R_train',None)\n",
        "  R_test = ref_dict.pop('R_test',None)\n",
        "  R_leaderboard = ref_dict.pop('R_leaderboard',None) \n",
        "  flexion_total = ref_dict.pop('flexion_total',None)\n",
        "  flexion_train = ref_dict.pop('flexion_train',None)\n",
        "  flexion_test = ref_dict.pop('flexion_test',None)\n",
        "  \n",
        "  # After running the code for the first time, param_dict might contain keys for\n",
        "  # R matrices, so this allows code to work without needing to restart runtime. \n",
        "  if 'R_leaderboard' in param_dict:\n",
        "    ref_dict = ref_dict_backup\n",
        "\n",
        "  # This compares the user defined parameters to the ones from the file. \n",
        "  if compare_dicts(ref_dict, param_dict) == 0:\n",
        "    newDataNeeded = False\n",
        "    print(f\"{filename} uses the same parameters as currently set, so it will be loaded\")\n",
        "  \n",
        "  # uses parameters from file instead of the user defined ones.\n",
        "  elif use_file_params:\n",
        "    newDataNeeded = False\n",
        "    print(f\"{filename} uses different parameters, but use_file_params is True\")\n",
        "except: \n",
        "  print(f'{filename} was not found. Creating new a dataset instead')\n",
        "finally:\n",
        "  if newDataNeeded:\n",
        "    flexion_total = []; flexion_train = []; flexion_test = []\n",
        "    R_total = []; R_leaderboard = []; R_train = []; R_test = []\n",
        "    for p in range(numPatients):\n",
        "      # Creates the R matrix for all of the raw ecog data\n",
        "      feat_matrix_p = get_windowed_feats(raw_ecog[p], window_length, window_displacement)\n",
        "      normed_feat_matrix_p = standardize_training(feat_matrix_p)\n",
        "      R_total.append(create_R_matrix(normed_feat_matrix_p,N_winds))\n",
        "      \n",
        "      # Calculates the R matrix of the leaderboard ecog data. \n",
        "      leaderboard_p = get_windowed_feats(raw_leaderboard[p], window_length, window_displacement)\n",
        "      normed_leaderboard_p = standardize_testing(leaderboard_p)\n",
        "      R_leaderboard.append(create_R_matrix(normed_leaderboard_p,N_winds))\n",
        "\n",
        "      # Creates the R matrix for the training and testing split of the ecog data\n",
        "      trn_ecog_p, tst_ecog_p = split_data(raw_ecog[p])\n",
        "      trn_matrix_p = get_windowed_feats(trn_ecog_p, window_length, window_displacement)\n",
        "      tst_matrix_p = get_windowed_feats(tst_ecog_p, window_length, window_displacement)\n",
        "      normed_trn_matrix_p, normed_tst_matrix_p = standardize_both(trn_matrix_p, tst_matrix_p)\n",
        "      R_train.append(create_R_matrix(normed_trn_matrix_p,N_winds))\n",
        "      R_test.append(create_R_matrix(normed_tst_matrix_p,N_winds))\n",
        "\n",
        "      # Creates the downsampled glove data for the entire raw ecog dataset, and\n",
        "      # the training and testing split. \n",
        "      flexion_p = downsample(raw_glove[p], window_length, window_displacement, downsample_method)\n",
        "      flexion_total.append(flexion_p)\n",
        "      trn_flexion_p, tst_flexion_p = split_data(flexion_p)\n",
        "      flexion_train.append(trn_flexion_p); flexion_test.append(tst_flexion_p)\n",
        "      \n",
        "      # Sometimes flexion has more samples after splitting than the R matrix\n",
        "      if (len(flexion_total[p][:,0]) != len(R_total[p][:,0])):\n",
        "        flexion_total[p] = np.delete(flexion_total[p], 0, axis = 0)\n",
        "      if (len(flexion_train[p][:,0]) != len(R_train[p][:,0])):\n",
        "        flexion_train[p] = np.delete(flexion_train[p], 0, axis = 0)\n",
        "      if (len(flexion_test[p][:,0]) != len(R_test[p][:,0])):\n",
        "        flexion_test[p] = np.delete(flexion_test[p], 0, axis = 0)\n",
        "\n",
        "    # Store the resulting matrices into param_dict and save it to filename\n",
        "    param_dict['flexion_total'] = flexion_total\n",
        "    param_dict['flexion_train'] = flexion_train\n",
        "    param_dict['flexion_test'] = flexion_test\n",
        "    param_dict['R_total'] = R_total\n",
        "    param_dict['R_train'] = R_train\n",
        "    param_dict['R_test'] = R_test\n",
        "    param_dict['R_leaderboard'] = R_leaderboard\n",
        "    save_feature_parameters(filename)\n"
      ]
    },
    {
      "cell_type": "markdown",
      "metadata": {
        "id": "AT3zJxIco_va"
      },
      "source": [
        "# Learning Algorithms"
      ]
    },
    {
      "cell_type": "markdown",
      "metadata": {
        "id": "sVqFAVb4VFw7"
      },
      "source": [
        "## Learning Helper Classes\n",
        "Here two classes are defined to streamline the process of adding new learning algorithms. The LearningModel class is the parent class of every type of model we will use. The LearningAlgo class is a helper class that allows us to apply a LearningModel on each finger seperately while keeping track of the data.\n",
        "\n",
        "The only methods that might need changed to implement subclasses are the train, predict, clone, and maybe __ init __, methods in LearningModel. \n",
        "\n",
        "Note that LearningModel is designed so that it can work directly with most sklearn models without needing to create a subclass. "
      ]
    },
    {
      "cell_type": "code",
      "execution_count": 239,
      "metadata": {
        "id": "xTT7TIaJJlXW"
      },
      "outputs": [],
      "source": [
        "class LearningModel():\n",
        "  def __init__(self, model_type = None, smoothing = None):\n",
        "    \"\"\"\n",
        "      model_type is the unfit model being used.\n",
        "      smoothing is a function that applies smoothing to the prediction that\n",
        "        right now it does nothing because I don't know how to implement it.\n",
        "    \"\"\"\n",
        "    self.model_type = model_type\n",
        "    self.smoothing = smoothing\n",
        "\n",
        "  def train(self, R_trn, y_trn):\n",
        "    \"\"\"\n",
        "      This method trains a single model on all of y_trn. This method will need\n",
        "      redefined in subcasses if self.model_type.fit(data,labels) does not exist \n",
        "      or if self.model_type is not from the sklearn library. \n",
        "      Inputs:\n",
        "        R_trn = Response matrix for the training data set used\n",
        "        y_trn = finger flexion matrix for the training data set used.\n",
        "      Returns:\n",
        "        A model trained on R_trn and y_trn.\n",
        "    \"\"\"\n",
        "    self.model = sklearn.base.clone(self.model_type)\n",
        "    self.model.fit(R_trn, y_trn)\n",
        "    return self.model\n",
        "  \n",
        "  def predict(self, R_tst):\n",
        "    \"\"\"\n",
        "      This method predicts a y matrix based on the training it has recieved.\n",
        "      This method will fail if train has not been called yet. This, method will\n",
        "      need redefined in subcasses if self.model_type.predict(data) does not \n",
        "      exist or if self.model_type is not from the sklearn library. \n",
        "      Inputs:\n",
        "        R_tst = Response matrix for the training data set used\n",
        "      Returns:\n",
        "        a y matrix predicted to be the labels associated with R_tst\n",
        "    \"\"\"\n",
        "    self.prediction = self.model.predict(R_tst)\n",
        "    return self.prediction\n",
        "  \n",
        "  def score(self, R_tst, Y_tst):\n",
        "    \"\"\"\n",
        "      Predicts the Y for R_tst and then compares it to the actual Y_tst.\n",
        "      Inputs:\n",
        "        R_tst = response matrix for testing or validation data set.\n",
        "        Y_tst = finger flexion matrix for the testing data set used.\n",
        "    \"\"\"\n",
        "    Y_predict = self.predict(R_tst)\n",
        "    self.correlation = pearsonr(Y_predict,Y_tst).statistic\n",
        "    return self.correlation\n",
        "\n",
        "  def clone(self):\n",
        "    return LearningModel(self.model_type, self.smoothing)\n",
        "\n",
        "\n",
        "class LearningAlgo():\n",
        "  \"\"\"\n",
        "    This helper class will train multiple of the same type of learning channel\n",
        "    on different parts of the data. In particular, it will train a model on \n",
        "    each channel within the label matrix Y_trn for each patient.\n",
        "\n",
        "    Unlike LearningModel, subclasses of LearningAlgo should not need to be made\n",
        "    for implementing new learning models. It should work for any model that is\n",
        "    a subclass of the LearningModel class.\n",
        "\n",
        "    It stores its models in a nested list self.models. To get the model of \n",
        "    finger i for patient p, use self.models[p][i]\n",
        "  \"\"\"\n",
        "  def __init__(self, learning_model):\n",
        "    \"\"\"\n",
        "      Its only input should be a LearningModel (or subclass) object \n",
        "    \"\"\"\n",
        "    self.learning_model = learning_model\n",
        "    self.model_type = learning_model.model_type\n",
        "    self.smoothing = learning_model.smoothing\n",
        "    self.models = [[]]\n",
        "\n",
        "  def train(self, R_trn, Y_trn):\n",
        "      \"\"\"\n",
        "        Will train a model on each finger in Y_trn. The total number of models \n",
        "        will be equal to channels in Y_trn \n",
        "        Inputs:\n",
        "          R_trn = A list of Response matrices for the training data set used\n",
        "          Y_trn = a list of finger flexion matrices for the training data set \n",
        "            used. Each element should have finger flexion for each window for\n",
        "            all five fingers. \n",
        "          The list of R_trn and Y_trn matrices should be the same length\n",
        "        Returns:\n",
        "          The list of models trained. The models at each index, i, corresponds \n",
        "          to the model trained on finger i+1\n",
        "      \"\"\"\n",
        "      self.models = []\n",
        "      for p in range(len(R_trn)):\n",
        "        models_p = []\n",
        "        for finger in range(len(Y_trn[p][0,:])):\n",
        "          model = self.learning_model.clone()\n",
        "          model.train(R_trn[p], Y_trn[p][:,finger])\n",
        "          models_p.append(model)\n",
        "        self.models.append(models_p)\n",
        "      return self.models\n",
        "\n",
        "  def predict(self,R_tst):\n",
        "    \"\"\"\n",
        "      This method predicts a Y matrix based on the training it has recieved.\n",
        "      This method will fail if train has not been called yet. \n",
        "      Inputs:\n",
        "        R_tst = Response matrix for the training data set used\n",
        "      Returns:\n",
        "        a Y matrix predicted to be the labels associated with R_tst\n",
        "    \"\"\"\n",
        "    predictions = np.zeros((len(self.models),len(self.models[0])))\n",
        "    for p in range(len(self.models)):\n",
        "      for i in range(len(self.models[p])):\n",
        "        predictions[p,i] = self.models[p][i].predict(R_tst[p])\n",
        "    return predictions\n",
        "  \n",
        "  def score(self, R_tst, Y_tst):\n",
        "    \"\"\"\n",
        "      Predicts the Y for R_tst and then compares it to the actual Y_tst.\n",
        "      Inputs:\n",
        "        R_tst = response matrix for testing or validation data set.\n",
        "        Y_tst = finger flexion matrix for the testing data set used.\n",
        "    \"\"\"\n",
        "    correlations = np.zeros((len(self.models),len(self.models[0])))\n",
        "    for p in range(len(self.models)):\n",
        "      for i in range(len(self.models[p])):\n",
        "        correlations[p,i] = self.models[p][i].score(R_tst[p],Y_tst[p][:,i])\n",
        "    return correlations\n",
        "  \n",
        "  def get_models(self):\n",
        "    return self.models\n",
        "\n",
        "  def print_scores(self, exclude_finger_4 = True):\n",
        "    \"\"\"\n",
        "      Prints out the correlation score for each finger and the averages for each\n",
        "      patient and the overall average. Has an optional Boolean input for whether\n",
        "      to exclude the ring finger's correlation in the output since it does not \n",
        "      have its own correlated ECoG signals. It is more so dependent on the pinky\n",
        "      and the middle finger's signals.\n",
        "    \"\"\"\n",
        "    cumulative_score = 0\n",
        "    patient_count = 0\n",
        "    for p in range(len(self.models)):\n",
        "      patient_score = 0\n",
        "      finger_count = 0\n",
        "      for i in range(len(self.models[p])):\n",
        "        print(f\"Patient {p+1}, Finger {i+1} Score = {self.models[p][i].correlation}\")\n",
        "        if i != 3:\n",
        "          patient_score += self.models[p][i].correlation\n",
        "          finger_count += 1\n",
        "        elif not exclude_finger_4:\n",
        "          patient_score += self.models[p][i].correlation\n",
        "          finger_count += 1 \n",
        "      patient_score = patient_score / finger_count\n",
        "      cumulative_score += patient_score\n",
        "      patient_count += 1\n",
        "      print(f\"Average Score of Patient {p+1} = {patient_score}\")\n",
        "    avg_core = cumulative_score/patient_count\n",
        "    print(f\"The Overall Average Score = {avg_core}\")\n",
        "    return avg_core\n"
      ]
    },
    {
      "cell_type": "markdown",
      "metadata": {
        "id": "9HnI3yAWzkJw"
      },
      "source": [
        "## Optimized Linear Filter"
      ]
    },
    {
      "cell_type": "code",
      "execution_count": 240,
      "metadata": {
        "colab": {
          "base_uri": "https://localhost:8080/"
        },
        "id": "qkP8WX_cpCuL",
        "outputId": "c377a80b-72fa-4a71-9e7e-62060d999b15"
      },
      "outputs": [
        {
          "output_type": "stream",
          "name": "stdout",
          "text": [
            "[0.43069528 0.57199565 0.09316127 0.45087363 0.08784496]\n",
            "[0.03402185 0.15760543 0.02750669 0.13485574 0.00272575]\n",
            "[0.5437972  0.31131737 0.39979914 0.43607092 0.42798062]\n"
          ]
        }
      ],
      "source": [
        "class OptimizedLinearFilter(LearningModel):\n",
        "  def train(self, R, Y):\n",
        "    \"\"\"\n",
        "      Builds an optimized linear filter using a training R and Y\n",
        "      Inputs: \n",
        "        R = Response matrix for the training data set used\n",
        "        Y = label matrix (finger flexion) for the training data set used\n",
        "      Returns: an optimized linear filter. \n",
        "    \"\"\"\n",
        "    Rt = np.transpose(R)\n",
        "    inv_term = inv(np.matmul(Rt,R))\n",
        "    self.model_type = 'Optimized Linear Filter' \n",
        "    self.model = np.matmul(inv_term,np.matmul(Rt,Y))\n",
        "    return self.model\n",
        "\n",
        "  def predict(self, R_tst):\n",
        "    self.prediction = np.matmul(R_tst,self.model)\n",
        "    return self.prediction\n",
        "\n",
        "  def clone(self):\n",
        "    return OptimizedLinearFilter(self.model_type, self.smoothing)\n",
        "\n",
        "opt_linear_filters_val_algo = LearningAlgo(OptimizedLinearFilter())\n",
        "opt_linear_filters_val_algo.train(R_train, flexion_train)\n",
        "optlinfilt_val_score = opt_linear_filters_val_algo.score(R_test,flexion_test)\n",
        "# opt_linear_filters_val = [] # for validation \n",
        "# opt_linear_filters_lead = [] # for the leaderboard\n",
        "# for p in range(numPatients):\n",
        "#  opt_linear_filters_val.append(LearningAlgo(OptimizedLinearFilter())) \n",
        "#  opt_linear_filters_val[p].train(R_train,flexion_train)\n",
        "#  opt_linear_filters_lead.append(LearningAlgo(OptimizedLinearFilter()))\n",
        "print(optlinfilt_val_score[0])\n",
        "print(optlinfilt_val_score[1])\n",
        "print(optlinfilt_val_score[2])\n"
      ]
    },
    {
      "cell_type": "markdown",
      "metadata": {
        "id": "S76MYJLtFDws"
      },
      "source": [
        "## SVR Model"
      ]
    },
    {
      "cell_type": "code",
      "execution_count": 241,
      "metadata": {
        "id": "O3cMV4sLFETI"
      },
      "outputs": [],
      "source": [
        "from sklearn.svm import SVR\n",
        "\n",
        "SVR_model = LearningModel(SVR(kernel = 'rbf'))\n",
        "SVR_algo = LearningAlgo(SVR_model)\n",
        "trained_models = SVR_algo.train(R_train,flexion_train)\n",
        "correlation_scores = SVR_algo.score(R_test,flexion_test)\n",
        "\n"
      ]
    },
    {
      "cell_type": "code",
      "execution_count": 242,
      "metadata": {
        "colab": {
          "base_uri": "https://localhost:8080/"
        },
        "id": "JyLLqJ_FGarL",
        "outputId": "6695138e-1725-482a-cbdf-5becbc6190cb"
      },
      "outputs": [
        {
          "output_type": "stream",
          "name": "stdout",
          "text": [
            "Patient 1, Finger 1 Score = 0.4190671629258502\n",
            "Patient 1, Finger 2 Score = 0.5711689994868724\n",
            "Patient 1, Finger 3 Score = 0.1797293055235954\n",
            "Patient 1, Finger 4 Score = 0.5032005765254516\n",
            "Patient 1, Finger 5 Score = 0.0563524976725487\n",
            "Average Score of Patient 1 = 0.3065794914022167\n",
            "Patient 2, Finger 1 Score = -0.05262814090757546\n",
            "Patient 2, Finger 2 Score = -0.0399604141670056\n",
            "Patient 2, Finger 3 Score = 0.043862984207269265\n",
            "Patient 2, Finger 4 Score = 0.02037143247898543\n",
            "Patient 2, Finger 5 Score = 0.002515349543995831\n",
            "Average Score of Patient 2 = -0.011552555330828992\n",
            "Patient 3, Finger 1 Score = 0.552619371909619\n",
            "Patient 3, Finger 2 Score = 0.4239501821849011\n",
            "Patient 3, Finger 3 Score = 0.45617696460496876\n",
            "Patient 3, Finger 4 Score = 0.48060424844919397\n",
            "Patient 3, Finger 5 Score = 0.45509738890073176\n",
            "Average Score of Patient 3 = 0.4719609769000551\n",
            "The Overall Average Score = 0.2556626376571476\n"
          ]
        },
        {
          "output_type": "execute_result",
          "data": {
            "text/plain": [
              "0.2556626376571476"
            ]
          },
          "metadata": {},
          "execution_count": 242
        }
      ],
      "source": [
        "SVR_algo.print_scores()"
      ]
    },
    {
      "cell_type": "markdown",
      "source": [
        "# Troubleshooting Stuff"
      ],
      "metadata": {
        "id": "DwQpT8CvSqM2"
      }
    },
    {
      "cell_type": "code",
      "execution_count": 243,
      "metadata": {
        "colab": {
          "base_uri": "https://localhost:8080/"
        },
        "id": "SeBIyAgaKaES",
        "outputId": "09015999-7d61-435e-b969-2071b800546c"
      },
      "outputs": [
        {
          "output_type": "stream",
          "name": "stdout",
          "text": [
            "[[ 1.64624303e-01  6.31009874e-04  4.36502062e-04 ... -1.86420287e-04\n",
            "  -6.56533482e-04 -1.97642946e-04]\n",
            " [ 6.31009874e-04  1.19837292e-03 -4.87973679e-04 ...  3.36024341e-05\n",
            "   1.32109743e-05  8.86648498e-07]\n",
            " [ 4.36502062e-04 -4.87973679e-04  1.53808110e-03 ... -1.52320530e-05\n",
            "   5.83738849e-05 -2.18051608e-05]\n",
            " ...\n",
            " [-1.86420287e-04  3.36024341e-05 -1.52320530e-05 ...  2.21324350e-03\n",
            "   4.14633359e-05  1.09643875e-03]\n",
            " [-6.56533482e-04  1.32109743e-05  5.83738849e-05 ...  4.14633359e-05\n",
            "   1.65280290e-03  2.74025223e-05]\n",
            " [-1.97642946e-04  8.86648498e-07 -2.18051608e-05 ...  1.09643875e-03\n",
            "   2.74025223e-05  2.16356980e-03]]\n"
          ]
        }
      ],
      "source": [
        "print(inv(np.matmul(np.transpose(R_test[1]),R_test[1])))"
      ]
    },
    {
      "cell_type": "code",
      "source": [
        "R_test[1].shape"
      ],
      "metadata": {
        "colab": {
          "base_uri": "https://localhost:8080/"
        },
        "id": "Ubuzg0w5_R2n",
        "outputId": "e7c794ef-2e86-447c-8dc1-bb804bc23dcb"
      },
      "execution_count": 244,
      "outputs": [
        {
          "output_type": "execute_result",
          "data": {
            "text/plain": [
              "(1799, 721)"
            ]
          },
          "metadata": {},
          "execution_count": 244
        }
      ]
    },
    {
      "cell_type": "code",
      "execution_count": 245,
      "metadata": {
        "colab": {
          "base_uri": "https://localhost:8080/"
        },
        "id": "p3VVqD62ivM7",
        "outputId": "ee297da9-b532-4746-ce81-4be7bd41e6ca"
      },
      "outputs": [
        {
          "output_type": "stream",
          "name": "stdout",
          "text": [
            "-0.05262814090757546\n",
            "-0.0399604141670056\n",
            "0.043862984207269265\n",
            "0.02037143247898543\n",
            "0.002515349543995831\n"
          ]
        }
      ],
      "source": [
        "SVR_model = LearningModel(SVR(kernel = 'rbf'))\n",
        "SVR_models2 = []\n",
        "for i in range(5):\n",
        "  SVR_models2.append(SVR_model.clone())\n",
        "  SVR_models2[i].train(R_train[1],flexion_train[1][:,i])\n",
        "  SVR_models2[i].score(R_test[1],flexion_test[1][:,i])\n",
        "  print(SVR_models2[i].correlation)\n"
      ]
    },
    {
      "cell_type": "code",
      "source": [
        "prediction_list = []\n",
        "for model in SVR_algo.get_models()[1]:\n",
        "  prediction_list.append(model.prediction)\n",
        "  print(model.prediction)"
      ],
      "metadata": {
        "colab": {
          "base_uri": "https://localhost:8080/"
        },
        "id": "FHRl05CQ2yoa",
        "outputId": "46e90f43-7037-4e0d-89a2-034ff7c58fe7"
      },
      "execution_count": 246,
      "outputs": [
        {
          "output_type": "stream",
          "name": "stdout",
          "text": [
            "[-0.20736696 -0.20736696 -0.20736696 ... -0.20736473 -0.20736696\n",
            " -0.20736696]\n",
            "[-0.34147124 -0.34147124 -0.34147124 ... -0.34147212 -0.34147124\n",
            " -0.34147124]\n",
            "[-0.17129182 -0.17129182 -0.17129182 ... -0.17129232 -0.17129182\n",
            " -0.17129182]\n",
            "[-0.23804408 -0.23804408 -0.23804408 ... -0.23804439 -0.23804408\n",
            " -0.23804408]\n",
            "[-0.12351883 -0.12351883 -0.12351883 ... -0.12351902 -0.12351883\n",
            " -0.12351883]\n"
          ]
        }
      ]
    },
    {
      "cell_type": "code",
      "source": [
        "flexion_test[1].shape"
      ],
      "metadata": {
        "colab": {
          "base_uri": "https://localhost:8080/"
        },
        "id": "FRdtWSi2Gc_d",
        "outputId": "021c9604-cff9-4764-c2fa-0489b90484e7"
      },
      "execution_count": 249,
      "outputs": [
        {
          "output_type": "execute_result",
          "data": {
            "text/plain": [
              "(1799, 5)"
            ]
          },
          "metadata": {},
          "execution_count": 249
        }
      ]
    },
    {
      "cell_type": "code",
      "source": [
        "np.argmax(np.max(normed_tst_matrix_p, axis=0))"
      ],
      "metadata": {
        "colab": {
          "base_uri": "https://localhost:8080/"
        },
        "id": "e_xGDhDzQVJ9",
        "outputId": "0c3e46c1-39ce-4646-e974-5aab5c56ab49"
      },
      "execution_count": 257,
      "outputs": [
        {
          "output_type": "execute_result",
          "data": {
            "text/plain": [
              "24"
            ]
          },
          "metadata": {},
          "execution_count": 257
        }
      ]
    }
  ],
  "metadata": {
    "colab": {
      "collapsed_sections": [
        "Lsp4l6bZowqG",
        "sVqFAVb4VFw7"
      ],
      "provenance": [],
      "authorship_tag": "ABX9TyMBd39X3u6FkZXzBP5C5vIp",
      "include_colab_link": true
    },
    "kernelspec": {
      "display_name": "Python 3",
      "name": "python3"
    },
    "language_info": {
      "name": "python"
    }
  },
  "nbformat": 4,
  "nbformat_minor": 0
}